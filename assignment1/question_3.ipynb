{
 "cells": [
  {
   "cell_type": "markdown",
   "metadata": {},
   "source": [
    "QUESTION 3"
   ]
  },
  {
   "cell_type": "markdown",
   "metadata": {},
   "source": [
    "IMPORTING DATA"
   ]
  },
  {
   "cell_type": "code",
   "execution_count": 34,
   "metadata": {},
   "outputs": [],
   "source": [
    "import csv \n",
    "import numpy as np\n",
    "import pandas as pd\n",
    "import matplotlib.pyplot as plt \n",
    "from mpl_toolkits.mplot3d import axes3d, Axes3D\n",
    "import time\n",
    "from matplotlib import animation\n",
    "from numpy.linalg import pinv\n",
    "import math"
   ]
  },
  {
   "cell_type": "markdown",
   "metadata": {},
   "source": [
    "LOADING DATA AND PREPROCESSING"
   ]
  },
  {
   "cell_type": "code",
   "execution_count": 35,
   "metadata": {},
   "outputs": [],
   "source": [
    "reader = csv.reader(open('logisticX.csv', 'rt'), delimiter=',')\n",
    "X = list(reader)\n",
    "X = np.array(X).astype(np.float64)\n",
    "reader = csv.reader(open('logisticY.csv', 'rt'), delimiter=',')\n",
    "Y = list(reader)\n",
    "Y = np.array(Y).astype(np.float64)\n",
    "Xorg=X\n",
    "col=np.ones((100,1))\n",
    "X=np.hstack((col,X))\n",
    "theta=np.zeros((3,1))"
   ]
  },
  {
   "cell_type": "markdown",
   "metadata": {},
   "source": [
    "DEFINING ALL FUNCTIONS"
   ]
  },
  {
   "cell_type": "code",
   "execution_count": 36,
   "metadata": {},
   "outputs": [
    {
     "name": "stdout",
     "output_type": "stream",
     "text": [
      "number of iteration are:12\n"
     ]
    }
   ],
   "source": [
    "#FUNCTIONS FOR CALCULATING HTHETA\n",
    "def calc_theta_trans_X(X,theta):\n",
    "    return np.matmul(X,theta)\n",
    "\n",
    "def calc_htheta(X,theta):\n",
    "    theta_trans_X=calc_theta_trans_X(X,theta)\n",
    "    epower=np.exp(-theta_trans_X)\n",
    "    #print(epower)\n",
    "    htheta=1/(1+epower)\n",
    "    return htheta\n",
    "def calc_logliklihood(Y,theta,X):\n",
    "    log_liklihood=sum(np.multiply(Y,np.log(calc_htheta(X,theta)))\n",
    "                      +np.multiply((1-Y),(np.log(1-np.log(calc_htheta(X,theta))))))\n",
    "    return log_liklihood \n",
    "\n",
    "#FUNCTION FOR CALCULATING GRADEINT \n",
    "def calc_gradient(Y,Xorg,X,theta):\n",
    "    gradient=np.zeros((2,1))\n",
    "    gradient=np.matmul(np.transpose(X),(Y-calc_htheta(X,theta)))\n",
    "    #print('grad')\n",
    "    return gradient\n",
    "\n",
    "#FUNCTION FOR CALCULATING HESSIAN\n",
    "def calc_hessian(Y,Xorg,X,theta):\n",
    "    htheta=calc_htheta(X,theta)\n",
    "    mid=np.diagflat(htheta*(1-htheta))\n",
    "    hessian=np.transpose(X).dot(mid).dot(X)\n",
    "    return (hessian)\n",
    "\n",
    "#FUNCTION FOR NEWTON'S ALGORITHM\n",
    "def calc_Newton(theta,Y,Xorg):\n",
    "    new_theta=theta\n",
    "    i=1    \n",
    "    while True:\n",
    "        new_theta=theta+np.matmul(pinv(calc_hessian(Y,Xorg,X,theta)),calc_gradient(Y,Xorg,X,theta))\n",
    "        #print(calc_gradient(Y,Xorg,X,theta))\n",
    "        diff=abs(new_theta-theta)\n",
    "        if(i==200 or diff.all()<10**-12):\n",
    "            break\n",
    "        i=i+1 \n",
    "        #print(i)\n",
    "        theta=new_theta \n",
    "        htheta=calc_htheta(X,theta)\n",
    "        #print(theta)\n",
    "    print('number of iteration are:'+str(i))     \n",
    "    return theta.reshape((3,))\n",
    "\n",
    "#CALCULATING HTHETA AND THETA\n",
    "theta=calc_Newton(theta,Y,Xorg)\n",
    "htheta=calc_htheta(X,theta).astype('float').reshape((100,1))\n",
    "#theta=calc_Newton(theta,Y,Xorg,htheta)"
   ]
  },
  {
   "cell_type": "code",
   "execution_count": 37,
   "metadata": {},
   "outputs": [],
   "source": [
    "#predicting value \n",
    "prediction=np.ones((100,1))\n",
    "for i in range(100):\n",
    "    if htheta[i]<=0.5:\n",
    "        prediction[i]=0 \n",
    "    else:\n",
    "        prediction[i]=1\n",
    "final_X=np.hstack((Xorg,prediction))"
   ]
  },
  {
   "cell_type": "code",
   "execution_count": 38,
   "metadata": {},
   "outputs": [],
   "source": [
    "#plotting the data\n",
    "def main_method(X,final_X,theta):\n",
    "    print('the final values of theta are '+str(theta))\n",
    "    colors = [int(i) for i in final_X[:,2]]\n",
    "    #print(colors)\n",
    "    plt.scatter(final_X[:,0],final_X[:,1],c=colors)\n",
    "    plt.plot(X[:,1],-(theta[0]/theta[2]+theta[1]/theta[2]*X[:,1]), 'r',label='decision boundary')\n",
    "    plt.xlabel('feature1')\n",
    "    plt.legend()\n",
    "    plt.ylabel('feature2')\n",
    "    plt.title('logistic regression')\n",
    "    plt.savefig('q3.png')\n",
    "    plt.show()\n",
    "    "
   ]
  },
  {
   "cell_type": "code",
   "execution_count": 39,
   "metadata": {},
   "outputs": [
    {
     "name": "stdout",
     "output_type": "stream",
     "text": [
      "the final values of theta are [ 0.22329537  1.96261552 -1.9648612 ]\n"
     ]
    },
    {
     "data": {
      "image/png": "[encoded data removed]",
      "text/plain": [
       "<Figure size 432x288 with 1 Axes>"
      ]
     },
     "metadata": {
      "needs_background": "light"
     },
     "output_type": "display_data"
    }
   ],
   "source": [
    "main_method(X,final_X,theta)"
   ]
  },
  {
   "cell_type": "code",
   "execution_count": null,
   "metadata": {},
   "outputs": [],
   "source": []
  }
 ],
 "metadata": {
  "kernelspec": {
   "display_name": "Python 3",
   "language": "python",
   "name": "python3"
  },
  "language_info": {
   "codemirror_mode": {
    "name": "ipython",
    "version": 3
   },
   "file_extension": ".py",
   "mimetype": "text/x-python",
   "name": "python",
   "nbconvert_exporter": "python",
   "pygments_lexer": "ipython3",
   "version": "3.6.7"
  }
 },
 "nbformat": 4,
 "nbformat_minor": 2
}
